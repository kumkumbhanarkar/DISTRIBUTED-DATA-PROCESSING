{
  "nbformat": 4,
  "nbformat_minor": 0,
  "metadata": {
    "colab": {
      "provenance": []
    },
    "kernelspec": {
      "name": "python3",
      "display_name": "Python 3"
    },
    "language_info": {
      "name": "python"
    }
  },
  "cells": [
    {
      "cell_type": "markdown",
      "source": [
        "### TASK 2 : USE APACHE SPARK TO ANALYZE A LARGE DATASET, IMPLEMENTING OPERATIONS LIKE FILTERING, GROUPING, AND AGGREGATIONS.\n",
        "\n",
        "### DELIVERABLE: A SPARK JOB SCRIPT WITH OUTPUT SHOWING ANALYSIS RESULTS."
      ],
      "metadata": {
        "id": "RDCFLY2-iCt1"
      }
    },
    {
      "cell_type": "code",
      "execution_count": 9,
      "metadata": {
        "colab": {
          "base_uri": "https://localhost:8080/"
        },
        "id": "WaXyowxwe3uT",
        "outputId": "7fee2008-29e9-4623-86fc-aec732fd06ab"
      },
      "outputs": [
        {
          "output_type": "stream",
          "name": "stdout",
          "text": [
            "Requirement already satisfied: pyspark in /usr/local/lib/python3.11/dist-packages (3.5.1)\n",
            "Requirement already satisfied: py4j==0.10.9.7 in /usr/local/lib/python3.11/dist-packages (from pyspark) (0.10.9.7)\n"
          ]
        }
      ],
      "source": [
        "# Install PySpark\n",
        "!pip install pyspark"
      ]
    },
    {
      "cell_type": "code",
      "source": [
        "#Setup and Import\n",
        "from pyspark.sql.functions import col, count, avg, sum, max, min"
      ],
      "metadata": {
        "id": "zR52VWa6iCYB"
      },
      "execution_count": 10,
      "outputs": []
    },
    {
      "cell_type": "code",
      "source": [
        "from pyspark.sql import SparkSession\n",
        "from pyspark.sql.functions import col, when, count, isnan"
      ],
      "metadata": {
        "id": "REz2Bd0NfOrY"
      },
      "execution_count": 11,
      "outputs": []
    },
    {
      "cell_type": "code",
      "source": [
        "#Create SparkSession\n",
        "spark = SparkSession.builder \\\n",
        "    .appName(\"SparkDataAnalysis\") \\\n",
        "    .getOrCreate()\n"
      ],
      "metadata": {
        "id": "m5l-cDM3juMT"
      },
      "execution_count": 12,
      "outputs": []
    },
    {
      "cell_type": "code",
      "source": [
        "# Load Dataset\n",
        "df = spark.read.csv(\"Dataset .csv\", header=True, inferSchema=True)\n",
        "df.show(5)\n"
      ],
      "metadata": {
        "colab": {
          "base_uri": "https://localhost:8080/"
        },
        "id": "3p4vM73cj3tk",
        "outputId": "50c1f0f1-87a3-490a-a1f4-7ab9644202a8"
      },
      "execution_count": 13,
      "outputs": [
        {
          "output_type": "stream",
          "name": "stdout",
          "text": [
            "+-------------+--------------------+------------+----------------+--------------------+--------------------+--------------------+----------+---------+--------------------+--------------------+----------------+-----------------+-------------------+-----------------+--------------------+-----------+----------------+------------+-----------+-----+\n",
            "|Restaurant ID|     Restaurant Name|Country Code|            City|             Address|            Locality|    Locality Verbose| Longitude| Latitude|            Cuisines|Average Cost for two|        Currency|Has Table booking|Has Online delivery|Is delivering now|Switch to order menu|Price range|Aggregate rating|Rating color|Rating text|Votes|\n",
            "+-------------+--------------------+------------+----------------+--------------------+--------------------+--------------------+----------+---------+--------------------+--------------------+----------------+-----------------+-------------------+-----------------+--------------------+-----------+----------------+------------+-----------+-----+\n",
            "|      6317637|    Le Petit Souffle|         162|     Makati City|Third Floor, Cent...|Century City Mall...|Century City Mall...|121.027535|14.565443|French, Japanese,...|                1100|Botswana Pula(P)|              Yes|                 No|               No|                  No|          3|             4.8|  Dark Green|  Excellent|  314|\n",
            "|      6304287|    Izakaya Kikufuji|         162|     Makati City|Little Tokyo, 227...|Little Tokyo, Leg...|Little Tokyo, Leg...|121.014101|14.553708|            Japanese|                1200|Botswana Pula(P)|              Yes|                 No|               No|                  No|          3|             4.5|  Dark Green|  Excellent|  591|\n",
            "|      6300002|Heat - Edsa Shang...|         162|Mandaluyong City|Edsa Shangri-La, ...|Edsa Shangri-La, ...|Edsa Shangri-La, ...|121.056831|14.581404|Seafood, Asian, F...|                4000|Botswana Pula(P)|              Yes|                 No|               No|                  No|          4|             4.4|       Green|  Very Good|  270|\n",
            "|      6318506|                Ooma|         162|Mandaluyong City|Third Floor, Mega...|SM Megamall, Orti...|SM Megamall, Orti...|121.056475|14.585318|     Japanese, Sushi|                1500|Botswana Pula(P)|               No|                 No|               No|                  No|          4|             4.9|  Dark Green|  Excellent|  365|\n",
            "|      6314302|         Sambo Kojin|         162|Mandaluyong City|Third Floor, Mega...|SM Megamall, Orti...|SM Megamall, Orti...|121.057508| 14.58445|    Japanese, Korean|                1500|Botswana Pula(P)|              Yes|                 No|               No|                  No|          4|             4.8|  Dark Green|  Excellent|  229|\n",
            "+-------------+--------------------+------------+----------------+--------------------+--------------------+--------------------+----------+---------+--------------------+--------------------+----------------+-----------------+-------------------+-----------------+--------------------+-----------+----------------+------------+-----------+-----+\n",
            "only showing top 5 rows\n",
            "\n"
          ]
        }
      ]
    },
    {
      "cell_type": "code",
      "source": [
        "#Basic Filtering\n",
        "filtered_df = df.filter(col(\"Votes\") > 100)\n",
        "filtered_df.show(5)"
      ],
      "metadata": {
        "colab": {
          "base_uri": "https://localhost:8080/"
        },
        "id": "_trcHfaij9jn",
        "outputId": "82e4acfb-6262-4a62-c7c4-3e6e44d9d323"
      },
      "execution_count": 14,
      "outputs": [
        {
          "output_type": "stream",
          "name": "stdout",
          "text": [
            "+-------------+--------------------+------------+----------------+--------------------+--------------------+--------------------+----------+---------+--------------------+--------------------+----------------+-----------------+-------------------+-----------------+--------------------+-----------+----------------+------------+-----------+-----+\n",
            "|Restaurant ID|     Restaurant Name|Country Code|            City|             Address|            Locality|    Locality Verbose| Longitude| Latitude|            Cuisines|Average Cost for two|        Currency|Has Table booking|Has Online delivery|Is delivering now|Switch to order menu|Price range|Aggregate rating|Rating color|Rating text|Votes|\n",
            "+-------------+--------------------+------------+----------------+--------------------+--------------------+--------------------+----------+---------+--------------------+--------------------+----------------+-----------------+-------------------+-----------------+--------------------+-----------+----------------+------------+-----------+-----+\n",
            "|      6317637|    Le Petit Souffle|         162|     Makati City|Third Floor, Cent...|Century City Mall...|Century City Mall...|121.027535|14.565443|French, Japanese,...|                1100|Botswana Pula(P)|              Yes|                 No|               No|                  No|          3|             4.8|  Dark Green|  Excellent|  314|\n",
            "|      6304287|    Izakaya Kikufuji|         162|     Makati City|Little Tokyo, 227...|Little Tokyo, Leg...|Little Tokyo, Leg...|121.014101|14.553708|            Japanese|                1200|Botswana Pula(P)|              Yes|                 No|               No|                  No|          3|             4.5|  Dark Green|  Excellent|  591|\n",
            "|      6300002|Heat - Edsa Shang...|         162|Mandaluyong City|Edsa Shangri-La, ...|Edsa Shangri-La, ...|Edsa Shangri-La, ...|121.056831|14.581404|Seafood, Asian, F...|                4000|Botswana Pula(P)|              Yes|                 No|               No|                  No|          4|             4.4|       Green|  Very Good|  270|\n",
            "|      6318506|                Ooma|         162|Mandaluyong City|Third Floor, Mega...|SM Megamall, Orti...|SM Megamall, Orti...|121.056475|14.585318|     Japanese, Sushi|                1500|Botswana Pula(P)|               No|                 No|               No|                  No|          4|             4.9|  Dark Green|  Excellent|  365|\n",
            "|      6314302|         Sambo Kojin|         162|Mandaluyong City|Third Floor, Mega...|SM Megamall, Orti...|SM Megamall, Orti...|121.057508| 14.58445|    Japanese, Korean|                1500|Botswana Pula(P)|              Yes|                 No|               No|                  No|          4|             4.8|  Dark Green|  Excellent|  229|\n",
            "+-------------+--------------------+------------+----------------+--------------------+--------------------+--------------------+----------+---------+--------------------+--------------------+----------------+-----------------+-------------------+-----------------+--------------------+-----------+----------------+------------+-----------+-----+\n",
            "only showing top 5 rows\n",
            "\n"
          ]
        }
      ]
    },
    {
      "cell_type": "code",
      "source": [
        "# Grouping + Aggregation\n",
        "# Example: Group by a categorical column (say \"category\") and count occurrences\n",
        "grouped_df = df.groupBy(\"City\").agg(count(\"*\").alias(\"count\"))\n",
        "grouped_df.show()"
      ],
      "metadata": {
        "colab": {
          "base_uri": "https://localhost:8080/"
        },
        "id": "zKEzKvHLkFXD",
        "outputId": "f4922e72-3182-44c9-8e97-f0d611bafff6"
      },
      "execution_count": 15,
      "outputs": [
        {
          "output_type": "stream",
          "name": "stdout",
          "text": [
            "+--------------------+-----+\n",
            "|                City|count|\n",
            "+--------------------+-----+\n",
            "|           Bangalore|   20|\n",
            "|           Tangerang|    2|\n",
            "|               Kochi|   20|\n",
            "|          Aurangabad|   20|\n",
            "|           Faridabad|  251|\n",
            "|            Armidale|    1|\n",
            "|              Monroe|    1|\n",
            "|            Savannah|   20|\n",
            "|          New Delhi\"|    1|\n",
            "|              Mysore|   20|\n",
            "|Huda City Centre ...|    1|\n",
            "|           Bras�_lia|   20|\n",
            "|            Valdosta|   20|\n",
            "|           Edinburgh|   20|\n",
            "|           Singapore|   20|\n",
            "|       San Juan City|    2|\n",
            "|          Manchester|   20|\n",
            "|             Jakarta|   16|\n",
            "|          Beechworth|    1|\n",
            "|               Patna|   20|\n",
            "+--------------------+-----+\n",
            "only showing top 20 rows\n",
            "\n"
          ]
        }
      ]
    },
    {
      "cell_type": "code",
      "source": [
        "# Multiple aggregations\n",
        "agg_df = df.groupBy(\"City\").agg(\n",
        "    avg(\"Votes\").alias(\"avg_votes\"),\n",
        "    sum(\"Votes\").alias(\"total_votes\"),\n",
        "    max(\"Votes\").alias(\"max_votes\")\n",
        ")\n",
        "agg_df.show()"
      ],
      "metadata": {
        "colab": {
          "base_uri": "https://localhost:8080/"
        },
        "id": "8S5X0f3vmccF",
        "outputId": "2a1d6384-5a8a-40f8-d2d7-21a381ce2f3f"
      },
      "execution_count": 16,
      "outputs": [
        {
          "output_type": "stream",
          "name": "stdout",
          "text": [
            "+--------------------+------------------+-----------+---------+\n",
            "|                City|         avg_votes|total_votes|max_votes|\n",
            "+--------------------+------------------+-----------+---------+\n",
            "|           Bangalore|           2805.75|      56115|    10934|\n",
            "|           Tangerang|            1183.5|       2367|     2212|\n",
            "|               Kochi|            359.95|       7199|      722|\n",
            "|          Aurangabad|              64.8|       1296|      240|\n",
            "|           Faridabad|25.840637450199203|       6486|      799|\n",
            "|            Armidale|              25.0|         25|       25|\n",
            "|              Monroe|              65.0|         65|       65|\n",
            "|            Savannah|            768.85|      15377|     1803|\n",
            "|          New Delhi\"|              NULL|       NULL|     NULL|\n",
            "|              Mysore|             212.9|       4258|      393|\n",
            "|Huda City Centre ...|              NULL|       NULL|     NULL|\n",
            "|           Bras�_lia|             10.85|        217|       30|\n",
            "|            Valdosta|             210.0|       4200|      575|\n",
            "|           Edinburgh|             112.3|       2246|      329|\n",
            "|           Singapore|              32.0|        608|       35|\n",
            "|       San Juan City|             340.5|        681|      458|\n",
            "|          Manchester|             203.8|       4076|      745|\n",
            "|             Jakarta|          742.6875|      11883|     1662|\n",
            "|          Beechworth|             237.0|        237|      237|\n",
            "|               Patna|              76.0|       1520|      162|\n",
            "+--------------------+------------------+-----------+---------+\n",
            "only showing top 20 rows\n",
            "\n"
          ]
        }
      ]
    },
    {
      "cell_type": "code",
      "source": [
        "agg_df.coalesce(1).write.csv(\"aggregated_results.csv\", header=True)\n"
      ],
      "metadata": {
        "id": "-1Y8oEk9mcpz"
      },
      "execution_count": 17,
      "outputs": []
    }
  ]
}